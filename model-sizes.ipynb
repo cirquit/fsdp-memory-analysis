{
 "cells": [
  {
   "cell_type": "markdown",
   "id": "6365fcd8-0cab-4fc4-b361-3af79dd9592d",
   "metadata": {},
   "source": [
    "# Model Sizes Lookup"
   ]
  },
  {
   "cell_type": "code",
   "execution_count": 5,
   "id": "765ddf33-5651-46d3-a286-ca2f9591d172",
   "metadata": {
    "tags": []
   },
   "outputs": [
    {
     "data": {
      "text/html": [
       "<div>\n",
       "<style scoped>\n",
       "    .dataframe tbody tr th:only-of-type {\n",
       "        vertical-align: middle;\n",
       "    }\n",
       "\n",
       "    .dataframe tbody tr th {\n",
       "        vertical-align: top;\n",
       "    }\n",
       "\n",
       "    .dataframe thead th {\n",
       "        text-align: right;\n",
       "    }\n",
       "</style>\n",
       "<table border=\"1\" class=\"dataframe\">\n",
       "  <thead>\n",
       "    <tr style=\"text-align: right;\">\n",
       "      <th></th>\n",
       "      <th>memory_consumption_MiB</th>\n",
       "      <th>parameter_count_mil</th>\n",
       "      <th>model_name</th>\n",
       "    </tr>\n",
       "  </thead>\n",
       "  <tbody>\n",
       "    <tr>\n",
       "      <th>0</th>\n",
       "      <td>607</td>\n",
       "      <td>60.51</td>\n",
       "      <td>60.51</td>\n",
       "    </tr>\n",
       "  </tbody>\n",
       "</table>\n",
       "</div>"
      ],
      "text/plain": [
       "   memory_consumption_MiB  parameter_count_mil  model_name\n",
       "0                     607                60.51       60.51"
      ]
     },
     "execution_count": 5,
     "metadata": {},
     "output_type": "execute_result"
    }
   ],
   "source": [
    "import pandas as pd\n",
    "\n",
    "model_size_dict = {\n",
    "    \"memory_consumption_MiB\": [],\n",
    "    \"parameter_count_mil\": [], \n",
    "    \"model_name\": [],\n",
    "}\n",
    "\n",
    "def add_model_size(memory, params, name):\n",
    "    model_size_dict[\"memory_consumption_MiB\"].append(memory)\n",
    "    model_size_dict[\"parameter_count_mil\"].append(params)\n",
    "    model_size_dict[\"model_name\"].append(params)\n",
    "\n",
    "    \n",
    "add_model_size(name = \"t5-small\", memory = 607, params = 60.51)\n",
    "\n",
    "model_size_df = pd.DataFrame(model_size_dict)\n",
    "model_size_df"
   ]
  },
  {
   "cell_type": "code",
   "execution_count": null,
   "id": "a69a65ce-3c2f-442e-9ec4-97ca65b801f1",
   "metadata": {},
   "outputs": [],
   "source": []
  }
 ],
 "metadata": {
  "kernelspec": {
   "display_name": "Python 3 (ipykernel)",
   "language": "python",
   "name": "python3"
  },
  "language_info": {
   "codemirror_mode": {
    "name": "ipython",
    "version": 3
   },
   "file_extension": ".py",
   "mimetype": "text/x-python",
   "name": "python",
   "nbconvert_exporter": "python",
   "pygments_lexer": "ipython3",
   "version": "3.11.4"
  }
 },
 "nbformat": 4,
 "nbformat_minor": 5
}
